{
  "nbformat": 4,
  "nbformat_minor": 0,
  "metadata": {
    "colab": {
      "provenance": []
    },
    "kernelspec": {
      "name": "python3",
      "display_name": "Python 3"
    },
    "language_info": {
      "name": "python"
    }
  },
  "cells": [
    {
      "cell_type": "markdown",
      "source": [
        "#Anmol Preet Singh -  CNN Model on MNIST Dataset for Written Digit Classification Project\n",
        "Importig all the necessary libraries"
      ],
      "metadata": {
        "id": "CiSv1KZE4MC4"
      }
    },
    {
      "cell_type": "code",
      "source": [
        "from keras.layers import Conv2D, MaxPooling2D,Flatten,Dense\n",
        "from keras.models import Sequential\n",
        "from keras.datasets import mnist\n",
        "from keras.utils import to_categorical"
      ],
      "metadata": {
        "id": "4rLZh1-4DtrK"
      },
      "execution_count": 29,
      "outputs": []
    },
    {
      "cell_type": "markdown",
      "source": [
        "Loading the Data set and prinitng the shape"
      ],
      "metadata": {
        "id": "a9Rv93BKD-k6"
      }
    },
    {
      "cell_type": "code",
      "source": [
        "(X_train, y_train),(X_test, y_test)=mnist.load_data()"
      ],
      "metadata": {
        "id": "5ruN_qHWDwWZ"
      },
      "execution_count": 30,
      "outputs": []
    },
    {
      "cell_type": "code",
      "source": [
        "print(X_train.shape)\n",
        "print(y_train.shape)\n",
        "print(X_test.shape)\n",
        "print(y_test.shape)"
      ],
      "metadata": {
        "colab": {
          "base_uri": "https://localhost:8080/"
        },
        "id": "9EY-XzHEEChL",
        "outputId": "67f0764a-b276-4cbc-abb5-4a2712c90dff"
      },
      "execution_count": 31,
      "outputs": [
        {
          "output_type": "stream",
          "name": "stdout",
          "text": [
            "(60000, 28, 28)\n",
            "(60000,)\n",
            "(10000, 28, 28)\n",
            "(10000,)\n"
          ]
        }
      ]
    },
    {
      "cell_type": "markdown",
      "source": [
        "Re-Shaping the Data set as it goes as an Numpy array beacuse the images are in gray Scale fromat and  the array will contain the pixel representaiton of the images ."
      ],
      "metadata": {
        "id": "7CIw1u-NEGj7"
      }
    },
    {
      "cell_type": "code",
      "source": [
        "X_train=X_train.reshape(60000,28,28,1)\n",
        "X_test=X_test.reshape(10000,28,28,1)"
      ],
      "metadata": {
        "id": "kDryGdtwEJdN"
      },
      "execution_count": 32,
      "outputs": []
    },
    {
      "cell_type": "code",
      "source": [
        "X_train[0].shape"
      ],
      "metadata": {
        "colab": {
          "base_uri": "https://localhost:8080/"
        },
        "id": "9lMgj14hEKDa",
        "outputId": "c25fcf48-66b9-494e-9f37-63e95fe8df89"
      },
      "execution_count": 33,
      "outputs": [
        {
          "output_type": "execute_result",
          "data": {
            "text/plain": [
              "(28, 28, 1)"
            ]
          },
          "metadata": {},
          "execution_count": 33
        }
      ]
    },
    {
      "cell_type": "markdown",
      "source": [
        "The image is in the fromat of 28 by 28 pixels , now checking some images present in the data set."
      ],
      "metadata": {
        "id": "EU16lfEWEf3q"
      }
    },
    {
      "cell_type": "code",
      "source": [
        "plt.imshow(X_train[123],cmap=\"gray\")"
      ],
      "metadata": {
        "colab": {
          "base_uri": "https://localhost:8080/",
          "height": 447
        },
        "id": "F-llLr9uEeko",
        "outputId": "47c89b73-fceb-4977-b26f-dd1c0183e724"
      },
      "execution_count": 35,
      "outputs": [
        {
          "output_type": "execute_result",
          "data": {
            "text/plain": [
              "<matplotlib.image.AxesImage at 0x7aae7584d360>"
            ]
          },
          "metadata": {},
          "execution_count": 35
        },
        {
          "output_type": "display_data",
          "data": {
            "text/plain": [
              "<Figure size 640x480 with 1 Axes>"
            ],
            "image/png": "[encoded data removed]"
          },
          "metadata": {}
        }
      ]
    },
    {
      "cell_type": "markdown",
      "source": [
        "Checking the Value associated with the Image."
      ],
      "metadata": {
        "id": "AFjODL-QEw_y"
      }
    },
    {
      "cell_type": "code",
      "source": [
        "y_train[123]"
      ],
      "metadata": {
        "colab": {
          "base_uri": "https://localhost:8080/"
        },
        "id": "Fq71x-5KEp5S",
        "outputId": "ee0b6c54-3ca4-4eaf-8c7e-8386784f3628"
      },
      "execution_count": 36,
      "outputs": [
        {
          "output_type": "execute_result",
          "data": {
            "text/plain": [
              "7"
            ]
          },
          "metadata": {},
          "execution_count": 36
        }
      ]
    },
    {
      "cell_type": "markdown",
      "source": [
        "From this we can infer that the image in the data set array at 123rd index has an associated value of 7 (in the array of y_train dataset at 123rd index ) . Which can also be visually seen as it looks like the numerical value 7 ."
      ],
      "metadata": {
        "id": "gpKWTsC-FDst"
      }
    },
    {
      "cell_type": "markdown",
      "source": [
        "#Converting into Float Data type"
      ],
      "metadata": {
        "id": "VziZblqxFoJC"
      }
    },
    {
      "cell_type": "code",
      "source": [
        "X_train=X_train.astype('float32')\n",
        "X_test=X_test.astype('float32')"
      ],
      "metadata": {
        "id": "uQJbvj5pF27p"
      },
      "execution_count": 37,
      "outputs": []
    },
    {
      "cell_type": "markdown",
      "source": [
        "Normalizing the data set"
      ],
      "metadata": {
        "id": "DAgn3FMDGW6q"
      }
    },
    {
      "cell_type": "code",
      "source": [
        "X_train/=255.0\n",
        "X_test/=255.0"
      ],
      "metadata": {
        "id": "pnRLxcFtF635"
      },
      "execution_count": 38,
      "outputs": []
    },
    {
      "cell_type": "markdown",
      "source": [
        "Converting into Categorical Variable"
      ],
      "metadata": {
        "id": "zo_D62PcGZuR"
      }
    },
    {
      "cell_type": "code",
      "source": [
        "y_train=to_categorical(y_train,10)\n",
        "y_test=to_categorical(y_test,10)"
      ],
      "metadata": {
        "id": "Vttxe_BFF8zY"
      },
      "execution_count": 39,
      "outputs": []
    },
    {
      "cell_type": "markdown",
      "source": [
        "Shape of the Model"
      ],
      "metadata": {
        "id": "PxhhEdg6GiNx"
      }
    },
    {
      "cell_type": "code",
      "source": [
        "print(X_train.shape)\n",
        "print(y_train.shape)\n",
        "print(X_test.shape)\n",
        "print(y_test.shape)"
      ],
      "metadata": {
        "colab": {
          "base_uri": "https://localhost:8080/"
        },
        "id": "WdxzY5kBGhNV",
        "outputId": "ef6c5131-1e31-47ff-c5cf-483d982b3737"
      },
      "execution_count": 40,
      "outputs": [
        {
          "output_type": "stream",
          "name": "stdout",
          "text": [
            "(60000, 28, 28, 1)\n",
            "(60000, 10)\n",
            "(10000, 28, 28, 1)\n",
            "(10000, 10)\n"
          ]
        }
      ]
    },
    {
      "cell_type": "markdown",
      "source": [
        "#Developing the Model (CNN)"
      ],
      "metadata": {
        "id": "RHuocpPpGm74"
      }
    },
    {
      "cell_type": "markdown",
      "source": [
        "Using convolution Operation (to filter out features from images ) and Max-pooling operation (to reduce the spatial size of image)"
      ],
      "metadata": {
        "id": "F2uwkEWbGwaA"
      }
    },
    {
      "cell_type": "code",
      "source": [
        "cnn=Sequential()\n",
        "cnn.add(Conv2D(32, kernel_size=(3,3),input_shape=(28,28,1),padding='same',activation='relu'))\n",
        "cnn.add(MaxPooling2D())\n",
        "cnn.add(Conv2D(32,kernel_size=(3,3),padding='same',activation='relu'))\n",
        "cnn.add(MaxPooling2D())\n",
        "cnn.add(Flatten())\n",
        "cnn.add(Dense(64, activation='relu'))\n",
        "cnn.add(Dense(10,activation='softmax'))\n",
        "cnn.compile(optimizer='adam',loss='categorical_crossentropy',metrics=['accuracy'])\n",
        "print(cnn.summary())"
      ],
      "metadata": {
        "colab": {
          "base_uri": "https://localhost:8080/"
        },
        "id": "tOLKW6HDGmgO",
        "outputId": "aa71b195-4bbd-435d-c6ec-bc91d70ac600"
      },
      "execution_count": 41,
      "outputs": [
        {
          "output_type": "stream",
          "name": "stdout",
          "text": [
            "Model: \"sequential_1\"\n",
            "_________________________________________________________________\n",
            " Layer (type)                Output Shape              Param #   \n",
            "=================================================================\n",
            " conv2d (Conv2D)             (None, 28, 28, 32)        320       \n",
            "                                                                 \n",
            " max_pooling2d (MaxPooling2  (None, 14, 14, 32)        0         \n",
            " D)                                                              \n",
            "                                                                 \n",
            " conv2d_1 (Conv2D)           (None, 14, 14, 32)        9248      \n",
            "                                                                 \n",
            " max_pooling2d_1 (MaxPoolin  (None, 7, 7, 32)          0         \n",
            " g2D)                                                            \n",
            "                                                                 \n",
            " flatten (Flatten)           (None, 1568)              0         \n",
            "                                                                 \n",
            " dense_3 (Dense)             (None, 64)                100416    \n",
            "                                                                 \n",
            " dense_4 (Dense)             (None, 10)                650       \n",
            "                                                                 \n",
            "=================================================================\n",
            "Total params: 110634 (432.16 KB)\n",
            "Trainable params: 110634 (432.16 KB)\n",
            "Non-trainable params: 0 (0.00 Byte)\n",
            "_________________________________________________________________\n",
            "None\n"
          ]
        }
      ]
    },
    {
      "cell_type": "markdown",
      "source": [
        "#Fitting the Model"
      ],
      "metadata": {
        "id": "Dzv-3GW_HQPK"
      }
    },
    {
      "cell_type": "code",
      "source": [
        "history_cnn=cnn.fit(X_train, y_train, epochs=20, verbose=1, validation_data=(X_train, y_train))"
      ],
      "metadata": {
        "colab": {
          "base_uri": "https://localhost:8080/"
        },
        "id": "fTPNd528HFE4",
        "outputId": "2241e2f2-67ac-4bbb-fd88-734095ba1798"
      },
      "execution_count": 42,
      "outputs": [
        {
          "output_type": "stream",
          "name": "stdout",
          "text": [
            "Epoch 1/20\n",
            "1875/1875 [==============================] - 74s 39ms/step - loss: 0.1623 - accuracy: 0.9496 - val_loss: 0.0509 - val_accuracy: 0.9846\n",
            "Epoch 2/20\n",
            "1875/1875 [==============================] - 82s 44ms/step - loss: 0.0486 - accuracy: 0.9850 - val_loss: 0.0348 - val_accuracy: 0.9890\n",
            "Epoch 3/20\n",
            "1875/1875 [==============================] - 73s 39ms/step - loss: 0.0352 - accuracy: 0.9891 - val_loss: 0.0281 - val_accuracy: 0.9913\n",
            "Epoch 4/20\n",
            "1875/1875 [==============================] - 75s 40ms/step - loss: 0.0272 - accuracy: 0.9913 - val_loss: 0.0164 - val_accuracy: 0.9948\n",
            "Epoch 5/20\n",
            "1875/1875 [==============================] - 70s 37ms/step - loss: 0.0205 - accuracy: 0.9931 - val_loss: 0.0129 - val_accuracy: 0.9961\n",
            "Epoch 6/20\n",
            "1875/1875 [==============================] - 68s 36ms/step - loss: 0.0165 - accuracy: 0.9944 - val_loss: 0.0149 - val_accuracy: 0.9954\n",
            "Epoch 7/20\n",
            "1875/1875 [==============================] - 70s 38ms/step - loss: 0.0134 - accuracy: 0.9959 - val_loss: 0.0104 - val_accuracy: 0.9964\n",
            "Epoch 8/20\n",
            "1875/1875 [==============================] - 69s 37ms/step - loss: 0.0104 - accuracy: 0.9964 - val_loss: 0.0206 - val_accuracy: 0.9930\n",
            "Epoch 9/20\n",
            "1875/1875 [==============================] - 75s 40ms/step - loss: 0.0105 - accuracy: 0.9964 - val_loss: 0.0094 - val_accuracy: 0.9968\n",
            "Epoch 10/20\n",
            "1875/1875 [==============================] - 68s 36ms/step - loss: 0.0089 - accuracy: 0.9970 - val_loss: 0.0036 - val_accuracy: 0.9989\n",
            "Epoch 11/20\n",
            "1875/1875 [==============================] - 70s 37ms/step - loss: 0.0072 - accuracy: 0.9976 - val_loss: 0.0045 - val_accuracy: 0.9985\n",
            "Epoch 12/20\n",
            "1875/1875 [==============================] - 74s 40ms/step - loss: 0.0063 - accuracy: 0.9977 - val_loss: 0.0032 - val_accuracy: 0.9988\n",
            "Epoch 13/20\n",
            "1875/1875 [==============================] - 76s 41ms/step - loss: 0.0060 - accuracy: 0.9980 - val_loss: 0.0043 - val_accuracy: 0.9985\n",
            "Epoch 14/20\n",
            "1875/1875 [==============================] - 71s 38ms/step - loss: 0.0049 - accuracy: 0.9984 - val_loss: 0.0122 - val_accuracy: 0.9962\n",
            "Epoch 15/20\n",
            "1875/1875 [==============================] - 69s 37ms/step - loss: 0.0059 - accuracy: 0.9982 - val_loss: 0.0072 - val_accuracy: 0.9974\n",
            "Epoch 16/20\n",
            "1875/1875 [==============================] - 70s 37ms/step - loss: 0.0053 - accuracy: 0.9983 - val_loss: 0.0018 - val_accuracy: 0.9995\n",
            "Epoch 17/20\n",
            "1875/1875 [==============================] - 70s 37ms/step - loss: 0.0051 - accuracy: 0.9985 - val_loss: 0.0082 - val_accuracy: 0.9973\n",
            "Epoch 18/20\n",
            "1875/1875 [==============================] - 74s 39ms/step - loss: 0.0042 - accuracy: 0.9987 - val_loss: 0.0025 - val_accuracy: 0.9991\n",
            "Epoch 19/20\n",
            "1875/1875 [==============================] - 70s 38ms/step - loss: 0.0042 - accuracy: 0.9986 - val_loss: 0.0033 - val_accuracy: 0.9987\n",
            "Epoch 20/20\n",
            "1875/1875 [==============================] - 76s 41ms/step - loss: 0.0044 - accuracy: 0.9985 - val_loss: 0.0039 - val_accuracy: 0.9988\n"
          ]
        }
      ]
    },
    {
      "cell_type": "markdown",
      "source": [
        "#Plotting the Accuracy and the Validation Accuracy of the Model"
      ],
      "metadata": {
        "id": "yA5sH2aiHgiB"
      }
    },
    {
      "cell_type": "markdown",
      "source": [
        "Accuracy of Model"
      ],
      "metadata": {
        "id": "oxF5f4NjHp3p"
      }
    },
    {
      "cell_type": "code",
      "source": [
        "plt.plot(history_cnn.history['accuracy'])"
      ],
      "metadata": {
        "colab": {
          "base_uri": "https://localhost:8080/",
          "height": 447
        },
        "id": "oJj__wcgHI29",
        "outputId": "8d095920-13a2-4b07-a607-9f82a1f1056e"
      },
      "execution_count": 43,
      "outputs": [
        {
          "output_type": "execute_result",
          "data": {
            "text/plain": [
              "[<matplotlib.lines.Line2D at 0x7aae641b69e0>]"
            ]
          },
          "metadata": {},
          "execution_count": 43
        },
        {
          "output_type": "display_data",
          "data": {
            "text/plain": [
              "<Figure size 640x480 with 1 Axes>"
            ],
            "image/png": "[encoded data removed]"
          },
          "metadata": {}
        }
      ]
    },
    {
      "cell_type": "markdown",
      "source": [
        "Validation Accuracy of the Model"
      ],
      "metadata": {
        "id": "inmknVfmHsGS"
      }
    },
    {
      "cell_type": "code",
      "source": [
        "plt.plot(history_cnn.history['val_accuracy'])"
      ],
      "metadata": {
        "colab": {
          "base_uri": "https://localhost:8080/",
          "height": 448
        },
        "id": "XOu75tSgHn8R",
        "outputId": "f1127ad5-76f5-4aec-c1e7-9720afa74ce3"
      },
      "execution_count": 44,
      "outputs": [
        {
          "output_type": "execute_result",
          "data": {
            "text/plain": [
              "[<matplotlib.lines.Line2D at 0x7aae4ecc01c0>]"
            ]
          },
          "metadata": {},
          "execution_count": 44
        },
        {
          "output_type": "display_data",
          "data": {
            "text/plain": [
              "<Figure size 640x480 with 1 Axes>"
            ],
            "image/png": "[encoded data removed]"
          },
          "metadata": {}
        }
      ]
    },
    {
      "cell_type": "code",
      "source": [],
      "metadata": {
        "id": "1wmIm-saM1uz"
      },
      "execution_count": null,
      "outputs": []
    }
  ]
}